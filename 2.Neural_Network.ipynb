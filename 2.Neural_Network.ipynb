{
 "cells": [
  {
   "cell_type": "markdown",
   "id": "69c067af-f2d4-4843-95c3-033158cc29ba",
   "metadata": {},
   "source": [
    "### NLP Language Detection"
   ]
  },
  {
   "cell_type": "markdown",
   "id": "7294419d-67fd-4e7c-afbc-cad24e677254",
   "metadata": {},
   "source": [
    "### This notebook is the third part of NLP Language detection model "
   ]
  },
  {
   "cell_type": "markdown",
   "id": "93cb52b3-31d0-4d38-b7dd-bbc28bb45604",
   "metadata": {},
   "source": [
    "The data extraction and cleaning parts are same as part2 notebook, explainations for these steps are provided detailly in part 2. We will explain the steps for Neural Networoks in this notebook"
   ]
  },
  {
   "cell_type": "code",
   "execution_count": 1,
   "id": "845c75c0-f423-42a6-90e8-160ff2ace093",
   "metadata": {},
   "outputs": [],
   "source": [
    "## imprt necessary libraries\n",
    "import pandas as pd\n",
    "import numpy as np\n"
   ]
  },
  {
   "cell_type": "code",
   "execution_count": null,
   "id": "6473ab5d-45cc-462b-8f7f-92ab148fbb2b",
   "metadata": {},
   "outputs": [],
   "source": []
  },
  {
   "cell_type": "code",
   "execution_count": 2,
   "id": "e541f131-e6b8-4416-9034-55b73266ab79",
   "metadata": {},
   "outputs": [
    {
     "data": {
      "text/html": [
       "<div>\n",
       "<style scoped>\n",
       "    .dataframe tbody tr th:only-of-type {\n",
       "        vertical-align: middle;\n",
       "    }\n",
       "\n",
       "    .dataframe tbody tr th {\n",
       "        vertical-align: top;\n",
       "    }\n",
       "\n",
       "    .dataframe thead th {\n",
       "        text-align: right;\n",
       "    }\n",
       "</style>\n",
       "<table border=\"1\" class=\"dataframe\">\n",
       "  <thead>\n",
       "    <tr style=\"text-align: right;\">\n",
       "      <th></th>\n",
       "      <th>text</th>\n",
       "      <th>language</th>\n",
       "    </tr>\n",
       "  </thead>\n",
       "  <tbody>\n",
       "    <tr>\n",
       "      <th>0</th>\n",
       "      <td>os chefes de defesa da estónia, letónia, lituâ...</td>\n",
       "      <td>Por</td>\n",
       "    </tr>\n",
       "    <tr>\n",
       "      <th>1</th>\n",
       "      <td>размерът на хоризонталната мрежа може да бъде ...</td>\n",
       "      <td>Bul</td>\n",
       "    </tr>\n",
       "    <tr>\n",
       "      <th>2</th>\n",
       "      <td>สำหรับ ของเก่า ที่ จริงจัง ลอง   honeychurch  ...</td>\n",
       "      <td>Tha</td>\n",
       "    </tr>\n",
       "    <tr>\n",
       "      <th>3</th>\n",
       "      <td>Он увеличил давление .</td>\n",
       "      <td>Rus</td>\n",
       "    </tr>\n",
       "    <tr>\n",
       "      <th>4</th>\n",
       "      <td>S Jak sobie życzysz: Widzisz, jak Hitler zabij...</td>\n",
       "      <td>Pol</td>\n",
       "    </tr>\n",
       "    <tr>\n",
       "      <th>...</th>\n",
       "      <td>...</td>\n",
       "      <td>...</td>\n",
       "    </tr>\n",
       "    <tr>\n",
       "      <th>102748</th>\n",
       "      <td>narcisa änderte ihre art und weise sie kämpfte...</td>\n",
       "      <td>Ger</td>\n",
       "    </tr>\n",
       "    <tr>\n",
       "      <th>102749</th>\n",
       "      <td>Wie' s Narzissmus jetzt erzählt Marian beiden ...</td>\n",
       "      <td>Ger</td>\n",
       "    </tr>\n",
       "    <tr>\n",
       "      <th>102750</th>\n",
       "      <td>Hat sie, ich denke, sie würde jetzt kein Goldb...</td>\n",
       "      <td>Ger</td>\n",
       "    </tr>\n",
       "    <tr>\n",
       "      <th>102751</th>\n",
       "      <td>Terry, du siehst tatsächlich ein bisschen wie ...</td>\n",
       "      <td>Ger</td>\n",
       "    </tr>\n",
       "    <tr>\n",
       "      <th>102752</th>\n",
       "      <td>Ihr zwei seid so nett</td>\n",
       "      <td>Ger</td>\n",
       "    </tr>\n",
       "  </tbody>\n",
       "</table>\n",
       "<p>102753 rows × 2 columns</p>\n",
       "</div>"
      ],
      "text/plain": [
       "                                                     text language\n",
       "0       os chefes de defesa da estónia, letónia, lituâ...      Por\n",
       "1       размерът на хоризонталната мрежа може да бъде ...      Bul\n",
       "2       สำหรับ ของเก่า ที่ จริงจัง ลอง   honeychurch  ...      Tha\n",
       "3                                  Он увеличил давление .      Rus\n",
       "4       S Jak sobie życzysz: Widzisz, jak Hitler zabij...      Pol\n",
       "...                                                   ...      ...\n",
       "102748  narcisa änderte ihre art und weise sie kämpfte...      Ger\n",
       "102749  Wie' s Narzissmus jetzt erzählt Marian beiden ...      Ger\n",
       "102750  Hat sie, ich denke, sie würde jetzt kein Goldb...      Ger\n",
       "102751  Terry, du siehst tatsächlich ein bisschen wie ...      Ger\n",
       "102752                              Ihr zwei seid so nett      Ger\n",
       "\n",
       "[102753 rows x 2 columns]"
      ]
     },
     "execution_count": 2,
     "metadata": {},
     "output_type": "execute_result"
    }
   ],
   "source": [
    "## import the data downloaded from data processing part 1 notebook\n",
    "df= pd.read_csv(\"NLPdata.csv\")\n",
    "df"
   ]
  },
  {
   "cell_type": "code",
   "execution_count": 3,
   "id": "87fb0789-a196-474c-b4d3-0abf0c7ded6c",
   "metadata": {},
   "outputs": [
    {
     "name": "stdout",
     "output_type": "stream",
     "text": [
      "No duplicates found.\n"
     ]
    }
   ],
   "source": [
    "# Check for duplicates based on the 'Text' column\n",
    "duplicates = df[df.duplicated(subset=['text'], keep=False)]\n",
    "\n",
    "if duplicates.empty:\n",
    "    print(\"No duplicates found.\")\n",
    "else:\n",
    "    print(\"Duplicates found:\")\n",
    "    print(duplicates)"
   ]
  },
  {
   "cell_type": "code",
   "execution_count": 4,
   "id": "7bc7ee7b-a751-45c9-b234-af788739861b",
   "metadata": {},
   "outputs": [
    {
     "name": "stdout",
     "output_type": "stream",
     "text": [
      "language\n",
      "Eng    6880\n",
      "Fre    6485\n",
      "Spa    6308\n",
      "Por    6000\n",
      "Nep    5999\n",
      "Rus    5992\n",
      "Ara    5836\n",
      "Dut    5783\n",
      "Tur    5777\n",
      "Hin    5358\n",
      "Tha    5305\n",
      "Urd    5295\n",
      "Ger    4964\n",
      "Ita    4954\n",
      "Gre    4663\n",
      "Bul    4306\n",
      "Vie    4306\n",
      "Swa    4305\n",
      "Pol    4237\n",
      "Name: count, dtype: int64\n"
     ]
    }
   ],
   "source": [
    "language_counts = df['language'].value_counts()\n",
    "\n",
    "print(language_counts)"
   ]
  },
  {
   "cell_type": "code",
   "execution_count": 5,
   "id": "948edc2b-6589-4828-8a5f-eded60a9a0a2",
   "metadata": {},
   "outputs": [
    {
     "name": "stderr",
     "output_type": "stream",
     "text": [
      "C:\\Users\\Anita\\AppData\\Local\\Temp\\ipykernel_3716\\2730671146.py:15: FutureWarning: Series.__getitem__ treating keys as positions is deprecated. In a future version, integer keys will always be treated as labels (consistent with DataFrame behavior). To access a value by position, use `ser.iloc[pos]`\n",
      "  plt.text(x=i, y=language_counts[i] + 30, s=language_counts[i], ha='center', va='bottom', rotation=0, fontsize=10)\n"
     ]
    },
    {
     "data": {
      "image/png": "[encoded data removed]",
      "text/plain": [
       "<Figure size 1200x600 with 1 Axes>"
      ]
     },
     "metadata": {},
     "output_type": "display_data"
    }
   ],
   "source": [
    "import matplotlib.pyplot as plt\n",
    "\n",
    "# Define the language counts with the removed languages\n",
    "language_counts = df['language'].value_counts()\n",
    "\n",
    "# Plot a bar chart with adjusted size\n",
    "plt.figure(figsize=(12, 6))  # Adjust the size here (width, height)\n",
    "bars = language_counts.plot(kind='bar', width=0.8, color=\"green\")\n",
    "plt.xlabel('Language')\n",
    "plt.ylabel('Count')\n",
    "plt.title('Count of Rows for Languages')\n",
    "\n",
    "# Add counts on top of each bar vertically with adjusted font size\n",
    "for i in range(len(language_counts)):\n",
    "    plt.text(x=i, y=language_counts[i] + 30, s=language_counts[i], ha='center', va='bottom', rotation=0, fontsize=10)\n",
    "\n",
    "# Adjust x-axis tick labels rotation for better readability\n",
    "plt.xticks(rotation=0, ha='right')\n",
    "\n",
    "plt.tight_layout()\n",
    "plt.show()"
   ]
  },
  {
   "cell_type": "markdown",
   "id": "30bdada6-e8ea-4a4b-97a1-68ad0bf01521",
   "metadata": {},
   "source": [
    "### Data Cleaning process"
   ]
  },
  {
   "cell_type": "code",
   "execution_count": 6,
   "id": "3b23f522-1ccb-4f05-9735-528057ab7906",
   "metadata": {},
   "outputs": [],
   "source": [
    "##1\n",
    "import re\n",
    "# Apply regex to remove punctuation and digits, and then convert to lowercase\n",
    "##filtered_m_data['cleaned_text'] = filtered_m_data['text'].apply(lambda x: re.sub(r'[^\\w\\s]', '', x))\n",
    "df['cleaned_text'] = df['text'].apply(lambda x: re.sub(r'\\d+', '', x))\n",
    "df['cleaned_text'] = df['cleaned_text'].apply(lambda x: x.lower())\n",
    "\n",
    "df=df[[\"cleaned_text\",\"language\"]]\n"
   ]
  },
  {
   "cell_type": "code",
   "execution_count": 7,
   "id": "2b36a240-bcf3-4fee-87f0-62743689644f",
   "metadata": {},
   "outputs": [],
   "source": [
    "import pandas as pd\n",
    "\n",
    "# Assuming 'filtered_m_data' is your DataFrame\n",
    "\n",
    "# Define lists of English and non-English languages\n",
    "english_languages = ['Eng', 'Fre', 'Spa', 'Por', 'Dut', 'Tur', 'Ger', 'Ita', 'Pol', 'Vie', 'Swa']\n",
    "non_english_languages = ['Ara', 'Hin', 'Tha', 'Urd', 'Nep']\n",
    "rus_bul= [\"Rus\", \"Bul\", \"Gre\"]\n",
    "\n",
    "# Filter the DataFrame based on language\n",
    "english_df = df[df['language'].isin(english_languages)]\n",
    "non_english_df = df[df['language'].isin(non_english_languages)]\n",
    "rus_bul_df= df[df['language'].isin(rus_bul)]\n"
   ]
  },
  {
   "cell_type": "code",
   "execution_count": 8,
   "id": "9b9a6165-bda9-491e-8a28-fb18a0998566",
   "metadata": {},
   "outputs": [
    {
     "name": "stderr",
     "output_type": "stream",
     "text": [
      "C:\\Users\\Anita\\AppData\\Local\\Temp\\ipykernel_3716\\614825005.py:1: SettingWithCopyWarning: \n",
      "A value is trying to be set on a copy of a slice from a DataFrame.\n",
      "Try using .loc[row_indexer,col_indexer] = value instead\n",
      "\n",
      "See the caveats in the documentation: https://pandas.pydata.org/pandas-docs/stable/user_guide/indexing.html#returning-a-view-versus-a-copy\n",
      "  english_df['cleaned_text'] = english_df['cleaned_text'].apply(lambda x: re.sub(r'[^\\w\\s]', '', x))\n",
      "C:\\Users\\Anita\\AppData\\Local\\Temp\\ipykernel_3716\\614825005.py:2: SettingWithCopyWarning: \n",
      "A value is trying to be set on a copy of a slice from a DataFrame.\n",
      "Try using .loc[row_indexer,col_indexer] = value instead\n",
      "\n",
      "See the caveats in the documentation: https://pandas.pydata.org/pandas-docs/stable/user_guide/indexing.html#returning-a-view-versus-a-copy\n",
      "  english_df['cleaned_text'] = english_df['cleaned_text'].apply(lambda x: ' '.join([word for word in x.split() if len(word) > 1]))\n"
     ]
    },
    {
     "data": {
      "text/html": [
       "<div>\n",
       "<style scoped>\n",
       "    .dataframe tbody tr th:only-of-type {\n",
       "        vertical-align: middle;\n",
       "    }\n",
       "\n",
       "    .dataframe tbody tr th {\n",
       "        vertical-align: top;\n",
       "    }\n",
       "\n",
       "    .dataframe thead th {\n",
       "        text-align: right;\n",
       "    }\n",
       "</style>\n",
       "<table border=\"1\" class=\"dataframe\">\n",
       "  <thead>\n",
       "    <tr style=\"text-align: right;\">\n",
       "      <th></th>\n",
       "      <th>cleaned_text</th>\n",
       "      <th>language</th>\n",
       "    </tr>\n",
       "  </thead>\n",
       "  <tbody>\n",
       "    <tr>\n",
       "      <th>26490</th>\n",
       "      <td>der film haftet sehr gut auf dem display und i...</td>\n",
       "      <td>Ger</td>\n",
       "    </tr>\n",
       "    <tr>\n",
       "      <th>35025</th>\n",
       "      <td>os resultados foram divulgados na reunião de t...</td>\n",
       "      <td>Por</td>\n",
       "    </tr>\n",
       "    <tr>\n",
       "      <th>67315</th>\n",
       "      <td>ben hayal etmedim</td>\n",
       "      <td>Tur</td>\n",
       "    </tr>\n",
       "    <tr>\n",
       "      <th>71868</th>\n",
       "      <td>didnt hold phone at all</td>\n",
       "      <td>Eng</td>\n",
       "    </tr>\n",
       "    <tr>\n",
       "      <th>58254</th>\n",
       "      <td>viyana da birkaç neon işareti auuu geoffnet yapar</td>\n",
       "      <td>Tur</td>\n",
       "    </tr>\n",
       "  </tbody>\n",
       "</table>\n",
       "</div>"
      ],
      "text/plain": [
       "                                            cleaned_text language\n",
       "26490  der film haftet sehr gut auf dem display und i...      Ger\n",
       "35025  os resultados foram divulgados na reunião de t...      Por\n",
       "67315                                  ben hayal etmedim      Tur\n",
       "71868                            didnt hold phone at all      Eng\n",
       "58254  viyana da birkaç neon işareti auuu geoffnet yapar      Tur"
      ]
     },
     "execution_count": 8,
     "metadata": {},
     "output_type": "execute_result"
    }
   ],
   "source": [
    "english_df['cleaned_text'] = english_df['cleaned_text'].apply(lambda x: re.sub(r'[^\\w\\s]', '', x))\n",
    "english_df['cleaned_text'] = english_df['cleaned_text'].apply(lambda x: ' '.join([word for word in x.split() if len(word) > 1]))\n",
    "english_df.sample(5)"
   ]
  },
  {
   "cell_type": "code",
   "execution_count": 9,
   "id": "0e3621f0-19bd-485c-b8e8-c8eaad9f2ef9",
   "metadata": {},
   "outputs": [
    {
     "name": "stderr",
     "output_type": "stream",
     "text": [
      "C:\\Users\\Anita\\AppData\\Local\\Temp\\ipykernel_3716\\1768760041.py:14: SettingWithCopyWarning: \n",
      "A value is trying to be set on a copy of a slice from a DataFrame.\n",
      "Try using .loc[row_indexer,col_indexer] = value instead\n",
      "\n",
      "See the caveats in the documentation: https://pandas.pydata.org/pandas-docs/stable/user_guide/indexing.html#returning-a-view-versus-a-copy\n",
      "  rus_bul_df['cleaned_text'] = rus_bul_df['cleaned_text'].apply(remove_english)\n",
      "C:\\Users\\Anita\\AppData\\Local\\Temp\\ipykernel_3716\\1768760041.py:15: SettingWithCopyWarning: \n",
      "A value is trying to be set on a copy of a slice from a DataFrame.\n",
      "Try using .loc[row_indexer,col_indexer] = value instead\n",
      "\n",
      "See the caveats in the documentation: https://pandas.pydata.org/pandas-docs/stable/user_guide/indexing.html#returning-a-view-versus-a-copy\n",
      "  rus_bul_df['cleaned_text'] = rus_bul_df['cleaned_text'].apply(lambda x: re.sub(r'[^\\w\\s]', '', x))\n"
     ]
    },
    {
     "data": {
      "text/html": [
       "<div>\n",
       "<style scoped>\n",
       "    .dataframe tbody tr th:only-of-type {\n",
       "        vertical-align: middle;\n",
       "    }\n",
       "\n",
       "    .dataframe tbody tr th {\n",
       "        vertical-align: top;\n",
       "    }\n",
       "\n",
       "    .dataframe thead th {\n",
       "        text-align: right;\n",
       "    }\n",
       "</style>\n",
       "<table border=\"1\" class=\"dataframe\">\n",
       "  <thead>\n",
       "    <tr style=\"text-align: right;\">\n",
       "      <th></th>\n",
       "      <th>cleaned_text</th>\n",
       "      <th>language</th>\n",
       "    </tr>\n",
       "  </thead>\n",
       "  <tbody>\n",
       "    <tr>\n",
       "      <th>64618</th>\n",
       "      <td>για παράδειγμα λέξεις όπως   τι συμβαίνει ή</td>\n",
       "      <td>Gre</td>\n",
       "    </tr>\n",
       "    <tr>\n",
       "      <th>100432</th>\n",
       "      <td>позвольте мне немного подумать</td>\n",
       "      <td>Rus</td>\n",
       "    </tr>\n",
       "    <tr>\n",
       "      <th>64938</th>\n",
       "      <td>у меня теперь есть младшая дочь и в общем труд...</td>\n",
       "      <td>Rus</td>\n",
       "    </tr>\n",
       "    <tr>\n",
       "      <th>60340</th>\n",
       "      <td>μια τέτοια περιστασιακή υπέρβαση  ο  είναι ένα...</td>\n",
       "      <td>Gre</td>\n",
       "    </tr>\n",
       "    <tr>\n",
       "      <th>51604</th>\n",
       "      <td>мисля  че е като много неща в съединените щати...</td>\n",
       "      <td>Bul</td>\n",
       "    </tr>\n",
       "  </tbody>\n",
       "</table>\n",
       "</div>"
      ],
      "text/plain": [
       "                                             cleaned_text language\n",
       "64618        για παράδειγμα λέξεις όπως   τι συμβαίνει ή       Gre\n",
       "100432                     позвольте мне немного подумать      Rus\n",
       "64938   у меня теперь есть младшая дочь и в общем труд...      Rus\n",
       "60340   μια τέτοια περιστασιακή υπέρβαση  ο  είναι ένα...      Gre\n",
       "51604   мисля  че е като много неща в съединените щати...      Bul"
      ]
     },
     "execution_count": 9,
     "metadata": {},
     "output_type": "execute_result"
    }
   ],
   "source": [
    "import re\n",
    "\n",
    "# Define a function to remove English words\n",
    "def remove_english(text):\n",
    "    # Regular expression to match English words\n",
    "    english_pattern = r'\\b[a-zA-Z]+\\b'\n",
    "    \n",
    "    # Replace English words with an empty string\n",
    "    cleaned_text = re.sub(english_pattern, '', text)\n",
    "    \n",
    "    return cleaned_text\n",
    "\n",
    "# Apply the function to the 'cleaned_text' column\n",
    "rus_bul_df['cleaned_text'] = rus_bul_df['cleaned_text'].apply(remove_english)\n",
    "rus_bul_df['cleaned_text'] = rus_bul_df['cleaned_text'].apply(lambda x: re.sub(r'[^\\w\\s]', '', x))\n",
    "rus_bul_df1=rus_bul_df\n",
    "rus_bul_df1.sample(5)"
   ]
  },
  {
   "cell_type": "code",
   "execution_count": 10,
   "id": "e565f4ed-1998-4ba9-90b9-7f130a40d506",
   "metadata": {},
   "outputs": [
    {
     "name": "stderr",
     "output_type": "stream",
     "text": [
      "C:\\Users\\Anita\\AppData\\Local\\Temp\\ipykernel_3716\\1097006734.py:15: SettingWithCopyWarning: \n",
      "A value is trying to be set on a copy of a slice from a DataFrame.\n",
      "Try using .loc[row_indexer,col_indexer] = value instead\n",
      "\n",
      "See the caveats in the documentation: https://pandas.pydata.org/pandas-docs/stable/user_guide/indexing.html#returning-a-view-versus-a-copy\n",
      "  non_english_df['cleaned_text'] = non_english_df['cleaned_text'].apply(remove_non_target_language)\n"
     ]
    },
    {
     "data": {
      "text/html": [
       "<div>\n",
       "<style scoped>\n",
       "    .dataframe tbody tr th:only-of-type {\n",
       "        vertical-align: middle;\n",
       "    }\n",
       "\n",
       "    .dataframe tbody tr th {\n",
       "        vertical-align: top;\n",
       "    }\n",
       "\n",
       "    .dataframe thead th {\n",
       "        text-align: right;\n",
       "    }\n",
       "</style>\n",
       "<table border=\"1\" class=\"dataframe\">\n",
       "  <thead>\n",
       "    <tr style=\"text-align: right;\">\n",
       "      <th></th>\n",
       "      <th>cleaned_text</th>\n",
       "      <th>language</th>\n",
       "    </tr>\n",
       "  </thead>\n",
       "  <tbody>\n",
       "    <tr>\n",
       "      <th>47490</th>\n",
       "      <td>मौसम की अनुमति , आप एक  में एक सवारी ले सकते ह...</td>\n",
       "      <td>Hin</td>\n",
       "    </tr>\n",
       "    <tr>\n",
       "      <th>84344</th>\n",
       "      <td>หลังจากที่ภาคเอนด์เลสวอลซ์ออกฉาย ฮาจิเมะ คาโทก...</td>\n",
       "      <td>Tha</td>\n",
       "    </tr>\n",
       "    <tr>\n",
       "      <th>55333</th>\n",
       "      <td>جب تک کہ نئی دنیا کی زندگی میں اہم ہے ، تو ہم ...</td>\n",
       "      <td>Urd</td>\n",
       "    </tr>\n",
       "    <tr>\n",
       "      <th>23199</th>\n",
       "      <td>ของ นั้น แพง</td>\n",
       "      <td>Tha</td>\n",
       "    </tr>\n",
       "    <tr>\n",
       "      <th>83651</th>\n",
       "      <td>सरकारले ## लाख पर्यटक भित्र्याउन भ्रमण वर्षको ...</td>\n",
       "      <td>Nep</td>\n",
       "    </tr>\n",
       "  </tbody>\n",
       "</table>\n",
       "</div>"
      ],
      "text/plain": [
       "                                            cleaned_text language\n",
       "47490  मौसम की अनुमति , आप एक  में एक सवारी ले सकते ह...      Hin\n",
       "84344  หลังจากที่ภาคเอนด์เลสวอลซ์ออกฉาย ฮาจิเมะ คาโทก...      Tha\n",
       "55333  جب تک کہ نئی دنیا کی زندگی میں اہم ہے ، تو ہم ...      Urd\n",
       "23199                                       ของ นั้น แพง      Tha\n",
       "83651  सरकारले ## लाख पर्यटक भित्र्याउन भ्रमण वर्षको ...      Nep"
      ]
     },
     "execution_count": 10,
     "metadata": {},
     "output_type": "execute_result"
    }
   ],
   "source": [
    "import re\n",
    "\n",
    "# Define a function to remove English, Russian, and Hebrew words\n",
    "def remove_non_target_language(cleaned_text):\n",
    "    # Regular expression to match English, Russian, and Hebrew words\n",
    "    pattern = r'\\b(?:[a-zA-Z]+|[а-яА-ЯёЁ]+|[א-ת]+)\\b'\n",
    "    # Regular expression to match specified symbols\n",
    "    pattern_symbols = r'[्#$%^!*()_\\-, ् ##–#]+'\n",
    "    # Replace English, Russian, and Hebrew words wisome special chatracters th an empty string\n",
    "    cleaned_text = re.sub(pattern, '', cleaned_text)\n",
    "    \n",
    "    return cleaned_text\n",
    "\n",
    "# Apply the function to the 'cleaned_text' column\n",
    "non_english_df['cleaned_text'] = non_english_df['cleaned_text'].apply(remove_non_target_language)\n",
    "non_english_df1 = non_english_df\n",
    "non_english_df1.sample(5)"
   ]
  },
  {
   "cell_type": "code",
   "execution_count": 11,
   "id": "f5f51158-2584-4897-82e5-aa8c5518e299",
   "metadata": {},
   "outputs": [
    {
     "data": {
      "text/html": [
       "<div>\n",
       "<style scoped>\n",
       "    .dataframe tbody tr th:only-of-type {\n",
       "        vertical-align: middle;\n",
       "    }\n",
       "\n",
       "    .dataframe tbody tr th {\n",
       "        vertical-align: top;\n",
       "    }\n",
       "\n",
       "    .dataframe thead th {\n",
       "        text-align: right;\n",
       "    }\n",
       "</style>\n",
       "<table border=\"1\" class=\"dataframe\">\n",
       "  <thead>\n",
       "    <tr style=\"text-align: right;\">\n",
       "      <th></th>\n",
       "      <th>cleaned_text</th>\n",
       "      <th>language</th>\n",
       "    </tr>\n",
       "  </thead>\n",
       "  <tbody>\n",
       "    <tr>\n",
       "      <th>0</th>\n",
       "      <td>os chefes de defesa da estónia letónia lituâni...</td>\n",
       "      <td>Por</td>\n",
       "    </tr>\n",
       "    <tr>\n",
       "      <th>4</th>\n",
       "      <td>jak sobie życzysz widzisz jak hitler zabija żydów</td>\n",
       "      <td>Pol</td>\n",
       "    </tr>\n",
       "    <tr>\n",
       "      <th>6</th>\n",
       "      <td>zabuni ya ushindani pia imekuwa rahisi kwa sif...</td>\n",
       "      <td>Swa</td>\n",
       "    </tr>\n",
       "    <tr>\n",
       "      <th>7</th>\n",
       "      <td>devasa yüzyıl abbatiale saintpierreetsaintpaul...</td>\n",
       "      <td>Tur</td>\n",
       "    </tr>\n",
       "    <tr>\n",
       "      <th>9</th>\n",
       "      <td>duas raças diferentes de cães castanhos branco...</td>\n",
       "      <td>Por</td>\n",
       "    </tr>\n",
       "    <tr>\n",
       "      <th>...</th>\n",
       "      <td>...</td>\n",
       "      <td>...</td>\n",
       "    </tr>\n",
       "    <tr>\n",
       "      <th>100586</th>\n",
       "      <td>однажды мелли и терри снова пришли встретиться...</td>\n",
       "      <td>Rus</td>\n",
       "    </tr>\n",
       "    <tr>\n",
       "      <th>100587</th>\n",
       "      <td>о привет вы двое так скажите нам мэриан</td>\n",
       "      <td>Rus</td>\n",
       "    </tr>\n",
       "    <tr>\n",
       "      <th>100588</th>\n",
       "      <td>как теперь нарциссизм мэриан рассказал им обои...</td>\n",
       "      <td>Rus</td>\n",
       "    </tr>\n",
       "    <tr>\n",
       "      <th>100589</th>\n",
       "      <td>думаю она не хотела бы больше золотого хлеба а...</td>\n",
       "      <td>Rus</td>\n",
       "    </tr>\n",
       "    <tr>\n",
       "      <th>100590</th>\n",
       "      <td>терри вы на самом деле немного похожи на этого...</td>\n",
       "      <td>Rus</td>\n",
       "    </tr>\n",
       "  </tbody>\n",
       "</table>\n",
       "<p>102753 rows × 2 columns</p>\n",
       "</div>"
      ],
      "text/plain": [
       "                                             cleaned_text language\n",
       "0       os chefes de defesa da estónia letónia lituâni...      Por\n",
       "4       jak sobie życzysz widzisz jak hitler zabija żydów      Pol\n",
       "6       zabuni ya ushindani pia imekuwa rahisi kwa sif...      Swa\n",
       "7       devasa yüzyıl abbatiale saintpierreetsaintpaul...      Tur\n",
       "9       duas raças diferentes de cães castanhos branco...      Por\n",
       "...                                                   ...      ...\n",
       "100586  однажды мелли и терри снова пришли встретиться...      Rus\n",
       "100587            о привет вы двое так скажите нам мэриан      Rus\n",
       "100588  как теперь нарциссизм мэриан рассказал им обои...      Rus\n",
       "100589  думаю она не хотела бы больше золотого хлеба а...      Rus\n",
       "100590  терри вы на самом деле немного похожи на этого...      Rus\n",
       "\n",
       "[102753 rows x 2 columns]"
      ]
     },
     "execution_count": 11,
     "metadata": {},
     "output_type": "execute_result"
    }
   ],
   "source": [
    "df_finalx= pd.concat([english_df, non_english_df1, rus_bul_df1])\n",
    "df_finalx"
   ]
  },
  {
   "cell_type": "code",
   "execution_count": 12,
   "id": "5ce6b999-ce57-4207-a461-5eb9ba7475b9",
   "metadata": {},
   "outputs": [
    {
     "name": "stdout",
     "output_type": "stream",
     "text": [
      "language\n",
      "Eng    6880\n",
      "Fre    6485\n",
      "Spa    6308\n",
      "Por    6000\n",
      "Nep    5999\n",
      "Rus    5992\n",
      "Ara    5836\n",
      "Dut    5783\n",
      "Tur    5777\n",
      "Hin    5358\n",
      "Tha    5305\n",
      "Urd    5295\n",
      "Ger    4964\n",
      "Ita    4954\n",
      "Gre    4663\n",
      "Bul    4306\n",
      "Vie    4306\n",
      "Swa    4305\n",
      "Pol    4237\n",
      "Name: count, dtype: int64\n"
     ]
    }
   ],
   "source": [
    "language_counts1 = df_finalx['language'].value_counts()\n",
    "\n",
    "print(language_counts1)"
   ]
  },
  {
   "cell_type": "code",
   "execution_count": 14,
   "id": "db53d8c3-15f8-4b39-84c0-23e11dc968d5",
   "metadata": {},
   "outputs": [],
   "source": [
    "dfx=df_finalx"
   ]
  },
  {
   "cell_type": "markdown",
   "id": "945030b8-2a94-4802-972d-353affef0fb3",
   "metadata": {},
   "source": [
    "#### Now the data is ready for train and test part, so we are count vectorizing the data to extract bag of words features\n",
    "#### In this part we will be splitting the data into 80/20 for train, validationa and test. We will make sure that each language is divided into 80/20 split for the model to be more accurate and more better performance."
   ]
  },
  {
   "cell_type": "code",
   "execution_count": 15,
   "id": "f809db9b-34fa-4a0d-b572-4938894c713a",
   "metadata": {},
   "outputs": [],
   "source": [
    "import numpy as np\n",
    "from sklearn.feature_extraction.text import CountVectorizer\n",
    "from sklearn.model_selection import train_test_split\n",
    "\n",
    "# Assuming df_cleaned contains your DataFrame with \"clean_text\" and \"Language\" columns\n",
    "\n",
    "# Creating numpy arrays for the \"cleaned_text\" and \"Language\" columns\n",
    "x = np.array(dfx[\"cleaned_text\"])\n",
    "y = np.array(dfx[\"language\"])\n",
    "\n",
    "# Initialize a CountVectorizer to create bag of word features\n",
    "cv1 = CountVectorizer()\n",
    "\n",
    "# Transform the text data into a sparse matrix of token counts\n",
    "X = cv1.fit_transform(x)\n",
    "\n",
    "from scipy.sparse import vstack\n",
    "\n",
    "# Initialize empty sparse matrices for training and testing data\n",
    "X_train = None\n",
    "X_test = None\n",
    "y_train = []\n",
    "y_test = []\n",
    "\n",
    "# Split the data for each language into training and testing sets\n",
    "for lang in np.unique(y):\n",
    "    # Get the indices corresponding to the current language\n",
    "    indices = np.where(y == lang)[0]\n",
    "    \n",
    "    # Split the indices into training and testing sets with 80-20 split\n",
    "    train_indices, test_indices = train_test_split(indices, test_size=0.2, random_state=0)\n",
    "    \n",
    "    # Extract the corresponding sparse matrices for training and testing\n",
    "    X_train_lang = X[train_indices]\n",
    "    X_test_lang = X[test_indices]\n",
    "    \n",
    "    # Concatenate sparse matrices for each language\n",
    "    if X_train is None:\n",
    "        X_train = X_train_lang\n",
    "        X_test = X_test_lang\n",
    "    else:\n",
    "        X_train = vstack((X_train, X_train_lang))\n",
    "        X_test = vstack((X_test, X_test_lang))\n",
    "    \n",
    "    # Extend the language labels\n",
    "    y_train.extend(y[train_indices])\n",
    "    y_test.extend(y[test_indices])\n",
    "\n",
    "# Convert lists to numpy arrays for language labels\n",
    "y_train = np.array(y_train)\n",
    "y_test = np.array(y_test)\n",
    "\n",
    "# Now X_train and X_test contain the training and testing data with 80-20 split for each language\n"
   ]
  },
  {
   "cell_type": "code",
   "execution_count": 16,
   "id": "370730ea-c09e-47d5-afaf-117fbe59d8f9",
   "metadata": {},
   "outputs": [],
   "source": [
    "import tensorflow as tf\n",
    "from tensorflow.keras.models import Sequential\n",
    "from tensorflow.keras.layers import Embedding, LSTM, Dense, Dropout\n",
    "from tensorflow.keras.preprocessing.sequence import pad_sequences\n",
    "from sklearn.model_selection import train_test_split\n",
    "from sklearn.preprocessing import LabelEncoder\n",
    "\n",
    "# Define maximum number of words to consider in each text\n",
    "max_words = 1000\n",
    "\n",
    "# Convert text data to sequences\n",
    "tokenizer = tf.keras.preprocessing.text.Tokenizer(num_words=max_words)\n",
    "tokenizer.fit_on_texts(dfx[\"cleaned_text\"])\n",
    "X_rnn = tokenizer.texts_to_sequences(dfx[\"cleaned_text\"])\n",
    "\n",
    "# Pad sequences to ensure uniform length\n",
    "maxlen = 100\n",
    "X_rnn = pad_sequences(X_rnn, maxlen=maxlen)\n",
    "\n",
    "# Define number of classes\n",
    "num_classes = len(dfx[\"language\"].unique())\n",
    "\n",
    "# Convert language labels to categorical\n",
    "label_encoder = LabelEncoder()\n",
    "y_rnn = label_encoder.fit_transform(dfx[\"language\"])\n",
    "\n",
    "# Split the data into training and testing sets for each language\n",
    "X_train_rnn = []\n",
    "X_test_rnn = []\n",
    "y_train_rnn = []\n",
    "y_test_rnn = []\n",
    "\n",
    "for lang in np.unique(dfx[\"language\"]):\n",
    "    lang_indices = np.where(dfx[\"language\"] == lang)[0]\n",
    "    lang_X = X_rnn[lang_indices]\n",
    "    lang_y = y_rnn[lang_indices]\n",
    "    \n",
    "    X_lang_train, X_lang_test, y_lang_train, y_lang_test = train_test_split(lang_X, lang_y, test_size=0.2, random_state=0)\n",
    "    \n",
    "    X_train_rnn.append(X_lang_train)\n",
    "    X_test_rnn.append(X_lang_test)\n",
    "    y_train_rnn.append(y_lang_train)\n",
    "    y_test_rnn.append(y_lang_test)\n",
    "\n",
    "# Concatenate the lists to create the final training and testing sets\n",
    "X_train_rnn = np.concatenate(X_train_rnn)\n",
    "X_test_rnn = np.concatenate(X_test_rnn)\n",
    "y_train_rnn = tf.keras.utils.to_categorical(np.concatenate(y_train_rnn), num_classes=num_classes)\n",
    "y_test_rnn = tf.keras.utils.to_categorical(np.concatenate(y_test_rnn), num_classes=num_classes)\n"
   ]
  },
  {
   "cell_type": "markdown",
   "id": "901cbd17-b7e9-44c2-a44b-52ddbc2da330",
   "metadata": {},
   "source": [
    "### RNN LSTM MODEL"
   ]
  },
  {
   "cell_type": "code",
   "execution_count": 18,
   "id": "53146898-565d-4de2-999b-dbb2008f6f6e",
   "metadata": {},
   "outputs": [
    {
     "data": {
      "text/plain": [
       "'\\nbest_score = 0\\nbest_params = {}\\nfrom sklearn.model_selection import train_test_split\\n\\n# Split the training data into training and validation sets\\nX_train_cross, X_val_cross, y_train_cross, y_val_cross = train_test_split(X_train_rnn, y_train_rnn, test_size=0.3, random_state=42)\\n\\n# Take only 30% of the training data for cross-validation\\nX_train_partial, _, y_train_partial, _ = train_test_split(X_train_cross, y_train_cross, test_size=0.3, random_state=42)\\n\\nfrom sklearn.model_selection import RepeatedKFold\\n\\n# Initialize RepeatedKFold for cross-validation on the partial training set\\ncv = RepeatedKFold(n_splits=5, n_repeats=1, random_state=42)\\n\\n# Perform grid search with cross-validation\\nfor params in ParameterGrid(param_grid):\\n    print(f\"Training model with parameters: {params}\")\\n    fold_scores = []\\n    \\n    # Iterate over cross-validation folds\\n    for train_index, val_index in cv.split(X_train_partial):\\n        X_train_fold, X_val_fold = X_train_partial[train_index], X_train_partial[val_index]\\n        y_train_fold, y_val_fold = y_train_partial[train_index], y_train_partial[val_index]\\n        \\n        # Create and train the model\\n        model = create_model(**params)\\n        model.fit(X_train_fold, y_train_fold, epochs=params[\\'epochs\\'], batch_size=params[\\'batch_size\\'], verbose=0, validation_data=(X_val_fold, y_val_fold))\\n        \\n        # Evaluate the model on the validation data\\n        _, accuracy = model.evaluate(X_val_fold, y_val_fold, verbose=0)\\n        fold_scores.append(accuracy)\\n    \\n    # Average accuracy over folds\\n    avg_score = np.mean(fold_scores)\\n    print(f\"Average Validation Accuracy: {avg_score}\")\\n    \\n    # Update best score and parameters if better than current best\\n    if avg_score > best_score:\\n        best_score = avg_score\\n        best_params = params\\n\\n# Print the best parameters found\\nprint(\"Best average validation accuracy: %f using %s\" % (best_score, best_params))\\n'"
      ]
     },
     "execution_count": 18,
     "metadata": {},
     "output_type": "execute_result"
    }
   ],
   "source": [
    "## import  necessary libraries\n",
    "from tensorflow.keras.models import Sequential\n",
    "from tensorflow.keras.layers import Embedding, LSTM, Dense, Dropout\n",
    "from tensorflow.keras.optimizers import Adam\n",
    "from tensorflow.keras.models import Sequential\n",
    "from tensorflow.keras.layers import Embedding, LSTM, Dense, Dropout\n",
    "from tensorflow.keras.optimizers import Adam\n",
    "from sklearn.model_selection import ParameterGrid\n",
    "\n",
    "## define the model and its parameters\n",
    "def create_model(batch_size, epochs, learning_rate=0.001):\n",
    "    model_rnn = Sequential([\n",
    "        Embedding(max_words, 64, input_length=maxlen),\n",
    "        LSTM(128, return_sequences=True),  \n",
    "        Dropout(0.5),\n",
    "        LSTM(128),  \n",
    "        Dense(128, activation='relu'),\n",
    "        Dropout(0.5),\n",
    "        Dense(64, activation='relu'),  \n",
    "        Dropout(0.5),\n",
    "        Dense(num_classes, activation='softmax')\n",
    "    ])\n",
    "\n",
    "    optimizer = Adam(learning_rate=learning_rate)  # Specify learning rate here\n",
    "    model_rnn.compile(optimizer=optimizer,\n",
    "                      loss='categorical_crossentropy',\n",
    "                      metrics=['accuracy'])\n",
    "    \n",
    "    return model_rnn\n",
    "\n",
    "## Hyper parameter tunning  for the best values \n",
    "from sklearn.model_selection import StratifiedKFold\n",
    "\n",
    "# Define hyperparameters and learning rate to tune\n",
    "param_grid = {\n",
    "    'batch_size': [16, 32, 64],\n",
    "    'epochs': [10, 20, 30],\n",
    "    'learning_rate': [0.001, 0.01, 0.1]  # Add learning rate values to tune\n",
    "}\n",
    "\n",
    "'''\n",
    "best_score = 0\n",
    "best_params = {}\n",
    "from sklearn.model_selection import train_test_split\n",
    "\n",
    "# Split the training data into training and validation sets\n",
    "X_train_cross, X_val_cross, y_train_cross, y_val_cross = train_test_split(X_train_rnn, y_train_rnn, test_size=0.3, random_state=42)\n",
    "\n",
    "# Take only 30% of the training data for cross-validation\n",
    "X_train_partial, _, y_train_partial, _ = train_test_split(X_train_cross, y_train_cross, test_size=0.3, random_state=42)\n",
    "\n",
    "from sklearn.model_selection import RepeatedKFold\n",
    "\n",
    "# Initialize RepeatedKFold for cross-validation on the partial training set\n",
    "cv = RepeatedKFold(n_splits=5, n_repeats=1, random_state=42)\n",
    "\n",
    "# Perform grid search with cross-validation\n",
    "for params in ParameterGrid(param_grid):\n",
    "    print(f\"Training model with parameters: {params}\")\n",
    "    fold_scores = []\n",
    "    \n",
    "    # Iterate over cross-validation folds\n",
    "    for train_index, val_index in cv.split(X_train_partial):\n",
    "        X_train_fold, X_val_fold = X_train_partial[train_index], X_train_partial[val_index]\n",
    "        y_train_fold, y_val_fold = y_train_partial[train_index], y_train_partial[val_index]\n",
    "        \n",
    "        # Create and train the model\n",
    "        model = create_model(**params)\n",
    "        model.fit(X_train_fold, y_train_fold, epochs=params['epochs'], batch_size=params['batch_size'], verbose=0, validation_data=(X_val_fold, y_val_fold))\n",
    "        \n",
    "        # Evaluate the model on the validation data\n",
    "        _, accuracy = model.evaluate(X_val_fold, y_val_fold, verbose=0)\n",
    "        fold_scores.append(accuracy)\n",
    "    \n",
    "    # Average accuracy over folds\n",
    "    avg_score = np.mean(fold_scores)\n",
    "    print(f\"Average Validation Accuracy: {avg_score}\")\n",
    "    \n",
    "    # Update best score and parameters if better than current best\n",
    "    if avg_score > best_score:\n",
    "        best_score = avg_score\n",
    "        best_params = params\n",
    "\n",
    "# Print the best parameters found\n",
    "print(\"Best average validation accuracy: %f using %s\" % (best_score, best_params))\n",
    "'''"
   ]
  },
  {
   "cell_type": "code",
   "execution_count": 19,
   "id": "0fa501c5-8e67-4bc6-a19b-ca1e1ae1521b",
   "metadata": {},
   "outputs": [
    {
     "name": "stderr",
     "output_type": "stream",
     "text": [
      "C:\\Users\\Anita\\anaconda3\\Lib\\site-packages\\keras\\src\\layers\\core\\embedding.py:90: UserWarning: Argument `input_length` is deprecated. Just remove it.\n",
      "  warnings.warn(\n"
     ]
    },
    {
     "name": "stdout",
     "output_type": "stream",
     "text": [
      "Epoch 1/20\n",
      "\u001b[1m2569/2569\u001b[0m \u001b[32m━━━━━━━━━━━━━━━━━━━━\u001b[0m\u001b[37m\u001b[0m \u001b[1m610s\u001b[0m 231ms/step - accuracy: 0.6926 - loss: 0.9673\n",
      "Epoch 2/20\n",
      "\u001b[1m2569/2569\u001b[0m \u001b[32m━━━━━━━━━━━━━━━━━━━━\u001b[0m\u001b[37m\u001b[0m \u001b[1m637s\u001b[0m 248ms/step - accuracy: 0.9164 - loss: 0.2991\n",
      "Epoch 3/20\n",
      "\u001b[1m2569/2569\u001b[0m \u001b[32m━━━━━━━━━━━━━━━━━━━━\u001b[0m\u001b[37m\u001b[0m \u001b[1m694s\u001b[0m 270ms/step - accuracy: 0.9197 - loss: 0.2832\n",
      "Epoch 4/20\n",
      "\u001b[1m2569/2569\u001b[0m \u001b[32m━━━━━━━━━━━━━━━━━━━━\u001b[0m\u001b[37m\u001b[0m \u001b[1m585s\u001b[0m 228ms/step - accuracy: 0.9221 - loss: 0.2790\n",
      "Epoch 5/20\n",
      "\u001b[1m2569/2569\u001b[0m \u001b[32m━━━━━━━━━━━━━━━━━━━━\u001b[0m\u001b[37m\u001b[0m \u001b[1m503s\u001b[0m 196ms/step - accuracy: 0.9202 - loss: 0.2856\n",
      "Epoch 6/20\n",
      "\u001b[1m2569/2569\u001b[0m \u001b[32m━━━━━━━━━━━━━━━━━━━━\u001b[0m\u001b[37m\u001b[0m \u001b[1m514s\u001b[0m 200ms/step - accuracy: 0.9242 - loss: 0.2668\n",
      "Epoch 7/20\n",
      "\u001b[1m2569/2569\u001b[0m \u001b[32m━━━━━━━━━━━━━━━━━━━━\u001b[0m\u001b[37m\u001b[0m \u001b[1m479s\u001b[0m 187ms/step - accuracy: 0.9218 - loss: 0.2731\n",
      "Epoch 8/20\n",
      "\u001b[1m2569/2569\u001b[0m \u001b[32m━━━━━━━━━━━━━━━━━━━━\u001b[0m\u001b[37m\u001b[0m \u001b[1m466s\u001b[0m 182ms/step - accuracy: 0.9217 - loss: 0.2743\n",
      "Epoch 9/20\n",
      "\u001b[1m2569/2569\u001b[0m \u001b[32m━━━━━━━━━━━━━━━━━━━━\u001b[0m\u001b[37m\u001b[0m \u001b[1m470s\u001b[0m 183ms/step - accuracy: 0.9228 - loss: 0.2757\n",
      "Epoch 10/20\n",
      "\u001b[1m2569/2569\u001b[0m \u001b[32m━━━━━━━━━━━━━━━━━━━━\u001b[0m\u001b[37m\u001b[0m \u001b[1m464s\u001b[0m 181ms/step - accuracy: 0.9214 - loss: 0.2766\n",
      "Epoch 11/20\n",
      "\u001b[1m2569/2569\u001b[0m \u001b[32m━━━━━━━━━━━━━━━━━━━━\u001b[0m\u001b[37m\u001b[0m \u001b[1m461s\u001b[0m 179ms/step - accuracy: 0.9203 - loss: 0.2900\n",
      "Epoch 12/20\n",
      "\u001b[1m2569/2569\u001b[0m \u001b[32m━━━━━━━━━━━━━━━━━━━━\u001b[0m\u001b[37m\u001b[0m \u001b[1m466s\u001b[0m 182ms/step - accuracy: 0.9193 - loss: 0.2936\n",
      "Epoch 13/20\n",
      "\u001b[1m2569/2569\u001b[0m \u001b[32m━━━━━━━━━━━━━━━━━━━━\u001b[0m\u001b[37m\u001b[0m \u001b[1m470s\u001b[0m 183ms/step - accuracy: 0.9190 - loss: 0.2922\n",
      "Epoch 14/20\n",
      "\u001b[1m2569/2569\u001b[0m \u001b[32m━━━━━━━━━━━━━━━━━━━━\u001b[0m\u001b[37m\u001b[0m \u001b[1m459s\u001b[0m 179ms/step - accuracy: 0.9160 - loss: 0.3070\n",
      "Epoch 15/20\n",
      "\u001b[1m2569/2569\u001b[0m \u001b[32m━━━━━━━━━━━━━━━━━━━━\u001b[0m\u001b[37m\u001b[0m \u001b[1m479s\u001b[0m 187ms/step - accuracy: 0.9202 - loss: 0.2813\n",
      "Epoch 16/20\n",
      "\u001b[1m2569/2569\u001b[0m \u001b[32m━━━━━━━━━━━━━━━━━━━━\u001b[0m\u001b[37m\u001b[0m \u001b[1m598s\u001b[0m 233ms/step - accuracy: 0.9171 - loss: 0.2952\n",
      "Epoch 17/20\n",
      "\u001b[1m2569/2569\u001b[0m \u001b[32m━━━━━━━━━━━━━━━━━━━━\u001b[0m\u001b[37m\u001b[0m \u001b[1m605s\u001b[0m 236ms/step - accuracy: 0.9195 - loss: 0.2847\n",
      "Epoch 18/20\n",
      "\u001b[1m2569/2569\u001b[0m \u001b[32m━━━━━━━━━━━━━━━━━━━━\u001b[0m\u001b[37m\u001b[0m \u001b[1m617s\u001b[0m 240ms/step - accuracy: 0.9180 - loss: 0.2963\n",
      "Epoch 19/20\n",
      "\u001b[1m2569/2569\u001b[0m \u001b[32m━━━━━━━━━━━━━━━━━━━━\u001b[0m\u001b[37m\u001b[0m \u001b[1m612s\u001b[0m 238ms/step - accuracy: 0.9186 - loss: 0.2915\n",
      "Epoch 20/20\n",
      "\u001b[1m2569/2569\u001b[0m \u001b[32m━━━━━━━━━━━━━━━━━━━━\u001b[0m\u001b[37m\u001b[0m \u001b[1m616s\u001b[0m 240ms/step - accuracy: 0.9168 - loss: 0.3109\n"
     ]
    }
   ],
   "source": [
    "# Train the model with the best parameters\n",
    "best_model = create_model(batch_size=32, epochs=20, learning_rate=0.005)\n",
    "history = best_model.fit(X_train_rnn, y_train_rnn, epochs=20, batch_size=32)"
   ]
  },
  {
   "cell_type": "code",
   "execution_count": 20,
   "id": "cde31d8e-02ba-40f7-bc4a-700cfaa115e1",
   "metadata": {},
   "outputs": [
    {
     "name": "stdout",
     "output_type": "stream",
     "text": [
      "Training Accuracy: [0.8428999185562134, 0.917307436466217, 0.9188525080680847, 0.9217115044593811, 0.9211153984069824, 0.9226239919662476, 0.9210180640220642, 0.9212248921394348, 0.9206530451774597, 0.9212492108345032, 0.9192174673080444, 0.9189255237579346, 0.9194729924201965, 0.9173925518989563, 0.9172952175140381, 0.9187794923782349, 0.9206408858299255, 0.9181955456733704, 0.9191566705703735, 0.9167355895042419]\n"
     ]
    }
   ],
   "source": [
    "# Obtain training and validation accuracies\n",
    "training_accuracy = history.history['accuracy']\n",
    "\n",
    "# Print the training and validation accuracies\n",
    "print(f\"Training Accuracy: {training_accuracy}\")\n"
   ]
  },
  {
   "cell_type": "code",
   "execution_count": 21,
   "id": "6ec10cf0-162c-44bb-85eb-edc49bc79445",
   "metadata": {},
   "outputs": [
    {
     "name": "stdout",
     "output_type": "stream",
     "text": [
      "\u001b[1m643/643\u001b[0m \u001b[32m━━━━━━━━━━━━━━━━━━━━\u001b[0m\u001b[37m\u001b[0m \u001b[1m74s\u001b[0m 113ms/step - accuracy: 0.9421 - loss: 0.2100\n",
      "Test Accuracy: 0.9350099563598633\n"
     ]
    }
   ],
   "source": [
    "# Evaluate the model\n",
    "loss, accuracy = best_model.evaluate(X_test_rnn, y_test_rnn)\n",
    "print(f\"Test Accuracy: {accuracy}\")\n"
   ]
  },
  {
   "cell_type": "code",
   "execution_count": 22,
   "id": "8d256036-e2f7-46e6-b6fd-92cb0971dce5",
   "metadata": {},
   "outputs": [
    {
     "data": {
      "image/png": "[encoded data removed]",
      "text/plain": [
       "<Figure size 640x480 with 1 Axes>"
      ]
     },
     "metadata": {},
     "output_type": "display_data"
    }
   ],
   "source": [
    "def plot_loss_accuracy(history):\n",
    "    # Plot training loss\n",
    "    plt.plot(history.history['loss'], label='Training Loss')\n",
    "    \n",
    "    # Plot training accuracy\n",
    "    plt.plot(history.history['accuracy'], label='Training Accuracy')\n",
    "\n",
    "    plt.title('Model Loss and Accuracy')\n",
    "    plt.xlabel('Epoch')\n",
    "    plt.legend()\n",
    "    plt.show()\n",
    "\n",
    "plot_loss_accuracy(history)"
   ]
  },
  {
   "cell_type": "code",
   "execution_count": null,
   "id": "888d4b1a-0e1b-498d-a6c3-62f6189d1ebc",
   "metadata": {},
   "outputs": [],
   "source": [
    "########################### THE END###############################"
   ]
  },
  {
   "cell_type": "code",
   "execution_count": null,
   "id": "d00d350e-b55b-47ce-9428-111c7a349ff2",
   "metadata": {},
   "outputs": [],
   "source": []
  },
  {
   "cell_type": "code",
   "execution_count": null,
   "id": "b0518726-a9e5-4188-8fb9-0c585c7d5348",
   "metadata": {},
   "outputs": [],
   "source": []
  },
  {
   "cell_type": "code",
   "execution_count": null,
   "id": "e71f5ea3-d198-4dfb-a6c8-9c8e512c46d0",
   "metadata": {},
   "outputs": [],
   "source": []
  }
 ],
 "metadata": {
  "kernelspec": {
   "display_name": "Python 3 (ipykernel)",
   "language": "python",
   "name": "python3"
  },
  "language_info": {
   "codemirror_mode": {
    "name": "ipython",
    "version": 3
   },
   "file_extension": ".py",
   "mimetype": "text/x-python",
   "name": "python",
   "nbconvert_exporter": "python",
   "pygments_lexer": "ipython3",
   "version": "3.11.7"
  }
 },
 "nbformat": 4,
 "nbformat_minor": 5
}
